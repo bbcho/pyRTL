{
 "cells": [
  {
   "cell_type": "code",
   "execution_count": 2,
   "metadata": {},
   "outputs": [
    {
     "name": "stdout",
     "output_type": "stream",
     "text": [
      "{'tradeDate': ['2023-08-18'], 'settleDate': ['2023-08-20'], 'dt': [0.0833], 'interpWhat': ['discount'], 'interpHow': ['spline']}\n"
     ]
    }
   ],
   "source": [
    "%load_ext autoreload\n",
    "%autoreload 2\n",
    "import risktools as rt\n",
    "from pandas_datareader import data\n",
    "import json\n",
    "import os\n",
    "import pandas as pd"
   ]
  },
  {
   "cell_type": "code",
   "execution_count": 10,
   "metadata": {},
   "outputs": [
    {
     "data": {
      "text/plain": [
       "'2A8ht8q9qIj5WW1gaygGHPVwoJAPCxcUFtVn9uTk'"
      ]
     },
     "execution_count": 10,
     "metadata": {},
     "output_type": "execute_result"
    }
   ],
   "source": []
  },
  {
   "cell_type": "code",
   "execution_count": 3,
   "metadata": {},
   "outputs": [],
   "source": [
    "def _load_json(fn, dataframe=True):\n",
    "    # path = os.path.dirname(__file__)\n",
    "    fp = os.path.join(fn)\n",
    "    with open(fp) as js:\n",
    "        if dataframe == True:\n",
    "            df = pd.read_json(js)\n",
    "            df.columns = df.columns.str.replace(\".\", \"_\")\n",
    "        else:\n",
    "            df = json.load(js)\n",
    "\n",
    "    return df"
   ]
  },
  {
   "cell_type": "code",
   "execution_count": 11,
   "metadata": {},
   "outputs": [
    {
     "data": {
      "text/html": [
       "<div>\n",
       "<style scoped>\n",
       "    .dataframe tbody tr th:only-of-type {\n",
       "        vertical-align: middle;\n",
       "    }\n",
       "\n",
       "    .dataframe tbody tr th {\n",
       "        vertical-align: top;\n",
       "    }\n",
       "\n",
       "    .dataframe thead th {\n",
       "        text-align: right;\n",
       "    }\n",
       "</style>\n",
       "<table border=\"1\" class=\"dataframe\">\n",
       "  <thead>\n",
       "    <tr style=\"text-align: right;\">\n",
       "      <th></th>\n",
       "      <th>date</th>\n",
       "      <th>value</th>\n",
       "      <th>table_name</th>\n",
       "      <th>series_id</th>\n",
       "    </tr>\n",
       "  </thead>\n",
       "  <tbody>\n",
       "    <tr>\n",
       "      <th>0</th>\n",
       "      <td>2023-09-22</td>\n",
       "      <td>21958</td>\n",
       "      <td>Cushing, OK Ending Stocks excluding SPR of Cru...</td>\n",
       "      <td>PET.W_EPC0_SAX_YCUOK_MBBL.W</td>\n",
       "    </tr>\n",
       "    <tr>\n",
       "      <th>1</th>\n",
       "      <td>2023-09-15</td>\n",
       "      <td>22901</td>\n",
       "      <td>Cushing, OK Ending Stocks excluding SPR of Cru...</td>\n",
       "      <td>PET.W_EPC0_SAX_YCUOK_MBBL.W</td>\n",
       "    </tr>\n",
       "    <tr>\n",
       "      <th>2</th>\n",
       "      <td>2023-09-08</td>\n",
       "      <td>24965</td>\n",
       "      <td>Cushing, OK Ending Stocks excluding SPR of Cru...</td>\n",
       "      <td>PET.W_EPC0_SAX_YCUOK_MBBL.W</td>\n",
       "    </tr>\n",
       "    <tr>\n",
       "      <th>3</th>\n",
       "      <td>2023-09-01</td>\n",
       "      <td>27415</td>\n",
       "      <td>Cushing, OK Ending Stocks excluding SPR of Cru...</td>\n",
       "      <td>PET.W_EPC0_SAX_YCUOK_MBBL.W</td>\n",
       "    </tr>\n",
       "    <tr>\n",
       "      <th>4</th>\n",
       "      <td>2023-08-25</td>\n",
       "      <td>29165</td>\n",
       "      <td>Cushing, OK Ending Stocks excluding SPR of Cru...</td>\n",
       "      <td>PET.W_EPC0_SAX_YCUOK_MBBL.W</td>\n",
       "    </tr>\n",
       "    <tr>\n",
       "      <th>...</th>\n",
       "      <td>...</td>\n",
       "      <td>...</td>\n",
       "      <td>...</td>\n",
       "      <td>...</td>\n",
       "    </tr>\n",
       "    <tr>\n",
       "      <th>712</th>\n",
       "      <td>2010-01-29</td>\n",
       "      <td>2406</td>\n",
       "      <td>Weekly Lower 48 States Natural Gas Working Und...</td>\n",
       "      <td>NG.NW2_EPG0_SWO_R48_BCF.W</td>\n",
       "    </tr>\n",
       "    <tr>\n",
       "      <th>713</th>\n",
       "      <td>2010-01-22</td>\n",
       "      <td>2521</td>\n",
       "      <td>Weekly Lower 48 States Natural Gas Working Und...</td>\n",
       "      <td>NG.NW2_EPG0_SWO_R48_BCF.W</td>\n",
       "    </tr>\n",
       "    <tr>\n",
       "      <th>714</th>\n",
       "      <td>2010-01-15</td>\n",
       "      <td>2607</td>\n",
       "      <td>Weekly Lower 48 States Natural Gas Working Und...</td>\n",
       "      <td>NG.NW2_EPG0_SWO_R48_BCF.W</td>\n",
       "    </tr>\n",
       "    <tr>\n",
       "      <th>715</th>\n",
       "      <td>2010-01-08</td>\n",
       "      <td>2850</td>\n",
       "      <td>Weekly Lower 48 States Natural Gas Working Und...</td>\n",
       "      <td>NG.NW2_EPG0_SWO_R48_BCF.W</td>\n",
       "    </tr>\n",
       "    <tr>\n",
       "      <th>716</th>\n",
       "      <td>2010-01-01</td>\n",
       "      <td>3117</td>\n",
       "      <td>Weekly Lower 48 States Natural Gas Working Und...</td>\n",
       "      <td>NG.NW2_EPG0_SWO_R48_BCF.W</td>\n",
       "    </tr>\n",
       "  </tbody>\n",
       "</table>\n",
       "<p>1733 rows × 4 columns</p>\n",
       "</div>"
      ],
      "text/plain": [
       "          date  value                                         table_name  \\\n",
       "0   2023-09-22  21958  Cushing, OK Ending Stocks excluding SPR of Cru...   \n",
       "1   2023-09-15  22901  Cushing, OK Ending Stocks excluding SPR of Cru...   \n",
       "2   2023-09-08  24965  Cushing, OK Ending Stocks excluding SPR of Cru...   \n",
       "3   2023-09-01  27415  Cushing, OK Ending Stocks excluding SPR of Cru...   \n",
       "4   2023-08-25  29165  Cushing, OK Ending Stocks excluding SPR of Cru...   \n",
       "..         ...    ...                                                ...   \n",
       "712 2010-01-29   2406  Weekly Lower 48 States Natural Gas Working Und...   \n",
       "713 2010-01-22   2521  Weekly Lower 48 States Natural Gas Working Und...   \n",
       "714 2010-01-15   2607  Weekly Lower 48 States Natural Gas Working Und...   \n",
       "715 2010-01-08   2850  Weekly Lower 48 States Natural Gas Working Und...   \n",
       "716 2010-01-01   3117  Weekly Lower 48 States Natural Gas Working Und...   \n",
       "\n",
       "                       series_id  \n",
       "0    PET.W_EPC0_SAX_YCUOK_MBBL.W  \n",
       "1    PET.W_EPC0_SAX_YCUOK_MBBL.W  \n",
       "2    PET.W_EPC0_SAX_YCUOK_MBBL.W  \n",
       "3    PET.W_EPC0_SAX_YCUOK_MBBL.W  \n",
       "4    PET.W_EPC0_SAX_YCUOK_MBBL.W  \n",
       "..                           ...  \n",
       "712    NG.NW2_EPG0_SWO_R48_BCF.W  \n",
       "713    NG.NW2_EPG0_SWO_R48_BCF.W  \n",
       "714    NG.NW2_EPG0_SWO_R48_BCF.W  \n",
       "715    NG.NW2_EPG0_SWO_R48_BCF.W  \n",
       "716    NG.NW2_EPG0_SWO_R48_BCF.W  \n",
       "\n",
       "[1733 rows x 4 columns]"
      ]
     },
     "execution_count": 11,
     "metadata": {},
     "output_type": "execute_result"
    }
   ],
   "source": [
    "rt.get_eia_df(\n",
    "        [\"PET.W_EPC0_SAX_YCUOK_MBBL.W\", \"NG.NW2_EPG0_SWO_R48_BCF.W\"], key=os.getenv('EIA')\n",
    "    )"
   ]
  },
  {
   "cell_type": "code",
   "execution_count": null,
   "metadata": {},
   "outputs": [],
   "source": []
  }
 ],
 "metadata": {
  "kernelspec": {
   "display_name": "env",
   "language": "python",
   "name": "python3"
  },
  "language_info": {
   "codemirror_mode": {
    "name": "ipython",
    "version": 3
   },
   "file_extension": ".py",
   "mimetype": "text/x-python",
   "name": "python",
   "nbconvert_exporter": "python",
   "pygments_lexer": "ipython3",
   "version": "3.10.12"
  },
  "orig_nbformat": 4
 },
 "nbformat": 4,
 "nbformat_minor": 2
}
