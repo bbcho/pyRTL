{
 "cells": [
  {
   "cell_type": "code",
   "execution_count": 9,
   "metadata": {},
   "outputs": [
    {
     "name": "stdout",
     "output_type": "stream",
     "text": [
      "The autoreload extension is already loaded. To reload it, use:\n",
      "  %reload_ext autoreload\n"
     ]
    }
   ],
   "source": [
    "%load_ext autoreload\n",
    "%autoreload 2\n",
    "import risktools as rt\n",
    "from pandas_datareader import data\n",
    "import json\n",
    "import os\n",
    "import pandas as pd"
   ]
  },
  {
   "cell_type": "code",
   "execution_count": 12,
   "metadata": {},
   "outputs": [],
   "source": [
    "def _load_json(fn, dataframe=True):\n",
    "    # path = os.path.dirname(__file__)\n",
    "    fp = os.path.join(fn)\n",
    "    with open(fp) as js:\n",
    "        if dataframe == True:\n",
    "            df = pd.read_json(js)\n",
    "            df.columns = df.columns.str.replace(\".\", \"_\")\n",
    "        else:\n",
    "            df = json.load(js)\n",
    "\n",
    "    return df"
   ]
  },
  {
   "cell_type": "code",
   "execution_count": 35,
   "metadata": {},
   "outputs": [],
   "source": [
    "# Test 1\n",
    "ac = (\n",
    "    _load_json(\"../pytest/data/returns1.json\")\n",
    "    .round(4)\n",
    "    .set_index(\"date\")\n",
    "    .sort_index(axis=1)\n",
    ")\n",
    "ac.columns.name = \"series\"\n",
    "ac = ac.loc['2004-01-05':'2022-01-05',:]\n",
    "\n",
    "ts = (\n",
    "    rt.returns(\n",
    "        df=rt.data.open_data(\"dflong\").round(\n",
    "            4\n",
    "        ),  # round(4) because R toJSON function does so\n",
    "        ret_type=\"rel\",\n",
    "        period_return=1,\n",
    "        spread=True,\n",
    "    )\n",
    "    .round(4)\n",
    "    .sort_index(axis=1)\n",
    ")\n",
    "ts = ts.loc['2004-01-05':'2022-01-05',:]\n",
    "ts = ts[ac.columns]"
   ]
  },
  {
   "cell_type": "code",
   "execution_count": 63,
   "metadata": {},
   "outputs": [],
   "source": [
    "t = set(ts.dropna().index.strftime('%Y-%m-%d').unique())"
   ]
  },
  {
   "cell_type": "code",
   "execution_count": 64,
   "metadata": {},
   "outputs": [],
   "source": [
    "a = set(ac.dropna().index.strftime('%Y-%m-%d').unique())"
   ]
  },
  {
   "cell_type": "code",
   "execution_count": 69,
   "metadata": {},
   "outputs": [],
   "source": [
    "d = t.difference(a)"
   ]
  },
  {
   "cell_type": "code",
   "execution_count": 71,
   "metadata": {},
   "outputs": [],
   "source": [
    "c = {element for element in a if element not in t}"
   ]
  },
  {
   "cell_type": "code",
   "execution_count": 73,
   "metadata": {},
   "outputs": [
    {
     "name": "stdout",
     "output_type": "stream",
     "text": [
      "set()\n"
     ]
    }
   ],
   "source": [
    "print(c)"
   ]
  },
  {
   "cell_type": "code",
   "execution_count": 76,
   "metadata": {},
   "outputs": [
    {
     "name": "stdout",
     "output_type": "stream",
     "text": [
      "['2021-06-10', '2021-06-02', '2021-07-20', '2021-10-26', '2021-02-12', '2021-08-12', '2021-07-22', '2021-02-25', '2021-03-17', '2021-07-07']\n"
     ]
    }
   ],
   "source": [
    "print(list(d)[:10])"
   ]
  },
  {
   "cell_type": "code",
   "execution_count": 79,
   "metadata": {},
   "outputs": [
    {
     "data": {
      "text/plain": [
       "date\n",
       "2021-06-01    0.0134\n",
       "2021-06-02    0.0157\n",
       "2021-06-03   -0.0006\n",
       "2021-06-04    0.0081\n",
       "2021-06-07   -0.0056\n",
       "2021-06-08    0.0102\n",
       "2021-06-09    0.0000\n",
       "2021-06-10    0.0042\n",
       "2021-06-11    0.0023\n",
       "2021-06-14    0.0023\n",
       "2021-06-15    0.0155\n",
       "2021-06-16    0.0054\n",
       "2021-06-17   -0.0176\n",
       "2021-06-18    0.0059\n",
       "2021-06-21    0.0189\n",
       "2021-06-22   -0.0012\n",
       "2021-06-23    0.0051\n",
       "2021-06-24    0.0049\n",
       "2021-06-25    0.0082\n",
       "2021-06-28   -0.0197\n",
       "2021-06-29    0.0011\n",
       "2021-06-30    0.0049\n",
       "Name: BRN01, dtype: float64"
      ]
     },
     "execution_count": 79,
     "metadata": {},
     "output_type": "execute_result"
    }
   ],
   "source": [
    "ts.loc['2021-06-01':'2021-06-30', 'BRN01']"
   ]
  },
  {
   "cell_type": "code",
   "execution_count": 80,
   "metadata": {},
   "outputs": [
    {
     "data": {
      "text/plain": [
       "date\n",
       "2021-06-01    0.0134\n",
       "2021-06-02    0.0157\n",
       "2021-06-03   -0.0006\n",
       "2021-06-04    0.0081\n",
       "2021-06-07   -0.0056\n",
       "2021-06-08    0.0102\n",
       "2021-06-09    0.0000\n",
       "2021-06-10    0.0042\n",
       "2021-06-11    0.0023\n",
       "2021-06-14    0.0023\n",
       "2021-06-15    0.0155\n",
       "2021-06-16    0.0054\n",
       "2021-06-17   -0.0176\n",
       "2021-06-18    0.0059\n",
       "2021-06-21    0.0189\n",
       "2021-06-22   -0.0012\n",
       "2021-06-23    0.0051\n",
       "2021-06-24    0.0049\n",
       "2021-06-25    0.0082\n",
       "2021-06-28   -0.0197\n",
       "2021-06-29    0.0011\n",
       "2021-06-30    0.0049\n",
       "Name: BRN01, dtype: float64"
      ]
     },
     "execution_count": 80,
     "metadata": {},
     "output_type": "execute_result"
    }
   ],
   "source": [
    "ac.loc['2021-06-01':'2021-06-30', 'BRN01']"
   ]
  },
  {
   "cell_type": "code",
   "execution_count": null,
   "metadata": {},
   "outputs": [],
   "source": []
  }
 ],
 "metadata": {
  "kernelspec": {
   "display_name": "env",
   "language": "python",
   "name": "python3"
  },
  "language_info": {
   "codemirror_mode": {
    "name": "ipython",
    "version": 3
   },
   "file_extension": ".py",
   "mimetype": "text/x-python",
   "name": "python",
   "nbconvert_exporter": "python",
   "pygments_lexer": "ipython3",
   "version": "3.10.12"
  },
  "orig_nbformat": 4
 },
 "nbformat": 4,
 "nbformat_minor": 2
}
