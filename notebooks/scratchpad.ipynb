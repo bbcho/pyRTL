{
 "cells": [
  {
   "cell_type": "code",
   "execution_count": 2,
   "metadata": {},
   "outputs": [],
   "source": [
    "%load_ext autoreload\n",
    "%autoreload 2\n",
    "import risktools as rt\n",
    "from pandas_datareader import data\n",
    "import json\n",
    "import os\n",
    "import pandas as pd\n",
    "import requests"
   ]
  },
  {
   "cell_type": "code",
   "execution_count": 3,
   "metadata": {},
   "outputs": [],
   "source": [
    "eia = os.getenv('EIA')"
   ]
  },
  {
   "cell_type": "code",
   "execution_count": 4,
   "metadata": {},
   "outputs": [
    {
     "data": {
      "text/plain": [
       "'2A8ht8q9qIj5WW1gaygGHPVwoJAPCxcUFtVn9uTk'"
      ]
     },
     "execution_count": 4,
     "metadata": {},
     "output_type": "execute_result"
    }
   ],
   "source": [
    "eia"
   ]
  },
  {
   "cell_type": "code",
   "execution_count": 5,
   "metadata": {},
   "outputs": [
    {
     "data": {
      "text/plain": [
       "{'error': 'Error getting data.', 'code': 400}"
      ]
     },
     "execution_count": 5,
     "metadata": {},
     "output_type": "execute_result"
    }
   ],
   "source": [
    "url = f\"http://api.eia.gov/v2/seriesid/PET.WDIIM_R20-Z00_2.W?api_key=35d2c04d0a266f0cc2ca8ce655d4ee45\"\n",
    "tmp = json.loads(requests.get(url).text)\n",
    "tmp"
   ]
  },
  {
   "cell_type": "code",
   "execution_count": 6,
   "metadata": {},
   "outputs": [
    {
     "data": {
      "text/plain": [
       "{'error': 'Error getting data.', 'code': 400}"
      ]
     },
     "execution_count": 6,
     "metadata": {},
     "output_type": "execute_result"
    }
   ],
   "source": [
    "tmp"
   ]
  },
  {
   "cell_type": "code",
   "execution_count": 7,
   "metadata": {},
   "outputs": [
    {
     "name": "stdout",
     "output_type": "stream",
     "text": [
      "\u001b[0;31mSignature:\u001b[0m \u001b[0mrt\u001b[0m\u001b[0;34m.\u001b[0m\u001b[0mget_eia_df\u001b[0m\u001b[0;34m(\u001b[0m\u001b[0mtables\u001b[0m\u001b[0;34m,\u001b[0m \u001b[0mkey\u001b[0m\u001b[0;34m,\u001b[0m \u001b[0mversion\u001b[0m\u001b[0;34m=\u001b[0m\u001b[0;36m2\u001b[0m\u001b[0;34m)\u001b[0m\u001b[0;34m\u001b[0m\u001b[0;34m\u001b[0m\u001b[0m\n",
      "\u001b[0;31mDocstring:\u001b[0m\n",
      "Function for download data from the US Government EIA and return it as a pandas dataframe/series\n",
      "\n",
      "To get an api key, go to https://www.eia.gov/opendata/register.php\n",
      "To get table names, search via API explorer at https://www.eia.gov/opendata/qb.php\n",
      "\n",
      "Parameters\n",
      "----------\n",
      "tables : List[Tuple[str]]\n",
      "    EIA series to return. Can be a list or tuple of tables as well.\n",
      "key : str\n",
      "    EIA key.\n",
      "version : 1 | 2\n",
      "    API version to use, can be either 1 or 2. By default 2. As of Nov 2022, EIA is no\n",
      "    longer support v1 of the API. \n",
      "\n",
      "Returns\n",
      "-------\n",
      "pandas dataframe or series depending on the number of tables requested\n",
      "\n",
      "Examples\n",
      "--------\n",
      ">>> import risktools as rt\n",
      ">>> rt.get_eia_df('PET.WDIIM_R20-Z00_2.W', key=eia_key)\n",
      "\u001b[0;31mFile:\u001b[0m      ~/projects/risktools-dev/src/risktools/_main_functions.py\n",
      "\u001b[0;31mType:\u001b[0m      function"
     ]
    }
   ],
   "source": [
    "?rt.get_eia_df"
   ]
  },
  {
   "cell_type": "code",
   "execution_count": 8,
   "metadata": {},
   "outputs": [
    {
     "ename": "KeyError",
     "evalue": "'response'",
     "output_type": "error",
     "traceback": [
      "\u001b[0;31m---------------------------------------------------------------------------\u001b[0m",
      "\u001b[0;31mKeyError\u001b[0m                                  Traceback (most recent call last)",
      "\u001b[1;32m/home/bcho/projects/risktools-dev/notebooks/scratchpad.ipynb Cell 7\u001b[0m line \u001b[0;36m1\n\u001b[0;32m----> <a href='vscode-notebook-cell://wsl%2Bubuntu-22.04/home/bcho/projects/risktools-dev/notebooks/scratchpad.ipynb#W6sdnNjb2RlLXJlbW90ZQ%3D%3D?line=0'>1</a>\u001b[0m rt\u001b[39m.\u001b[39;49mget_eia_df(\u001b[39m\"\u001b[39;49m\u001b[39mPET.MCRFPTX2.M\u001b[39;49m\u001b[39m\"\u001b[39;49m, key\u001b[39m=\u001b[39;49m\u001b[39m\"\u001b[39;49m\u001b[39m2A8ht8q9qIj5WW1gaygGHPVwoJAPCxcUFtVn9uTk\u001b[39;49m\u001b[39m\"\u001b[39;49m)\n",
      "File \u001b[0;32m~/projects/risktools-dev/src/risktools/_main_functions.py:842\u001b[0m, in \u001b[0;36mget_eia_df\u001b[0;34m(tables, key, version)\u001b[0m\n\u001b[1;32m    840\u001b[0m     \u001b[39mreturn\u001b[39;00m _get_eia_df_v1(tables, key)\n\u001b[1;32m    841\u001b[0m \u001b[39melse\u001b[39;00m:\n\u001b[0;32m--> 842\u001b[0m     \u001b[39mreturn\u001b[39;00m _get_eia_df_v2(tables, key)\n",
      "File \u001b[0;32m~/projects/risktools-dev/src/risktools/_main_functions.py:931\u001b[0m, in \u001b[0;36m_get_eia_df_v2\u001b[0;34m(tables, key)\u001b[0m\n\u001b[1;32m    928\u001b[0m url \u001b[39m=\u001b[39m \u001b[39mf\u001b[39m\u001b[39m\"\u001b[39m\u001b[39mhttp://api.eia.gov/v2/seriesid/\u001b[39m\u001b[39m{\u001b[39;00mtbl\u001b[39m}\u001b[39;00m\u001b[39m?api_key=\u001b[39m\u001b[39m{\u001b[39;00mkey\u001b[39m}\u001b[39;00m\u001b[39m\"\u001b[39m\n\u001b[1;32m    929\u001b[0m tmp \u001b[39m=\u001b[39m json\u001b[39m.\u001b[39mloads(requests\u001b[39m.\u001b[39mget(url)\u001b[39m.\u001b[39mtext)\n\u001b[0;32m--> 931\u001b[0m tf \u001b[39m=\u001b[39m _pd\u001b[39m.\u001b[39mDataFrame(tmp[\u001b[39m'\u001b[39;49m\u001b[39mresponse\u001b[39;49m\u001b[39m'\u001b[39;49m][\u001b[39m'\u001b[39m\u001b[39mdata\u001b[39m\u001b[39m'\u001b[39m], columns\u001b[39m=\u001b[39m[\u001b[39m\"\u001b[39m\u001b[39mperiod\u001b[39m\u001b[39m\"\u001b[39m,\u001b[39m\"\u001b[39m\u001b[39mseries-description\u001b[39m\u001b[39m\"\u001b[39m, \u001b[39m\"\u001b[39m\u001b[39mvalue\u001b[39m\u001b[39m\"\u001b[39m])\n\u001b[1;32m    932\u001b[0m tf[\u001b[39m\"\u001b[39m\u001b[39mseries_id\u001b[39m\u001b[39m\"\u001b[39m] \u001b[39m=\u001b[39m tbl\n\u001b[1;32m    933\u001b[0m eia \u001b[39m=\u001b[39m _pd\u001b[39m.\u001b[39mconcat([eia, tf], axis\u001b[39m=\u001b[39m\u001b[39m0\u001b[39m)\n",
      "\u001b[0;31mKeyError\u001b[0m: 'response'"
     ]
    }
   ],
   "source": [
    "rt.get_eia_df(\"PET.MCRFPTX2.M\", key=\"2A8ht8q9qIj5WW1gaygGHPVwoJAPCxcUFtVn9uTk\")"
   ]
  },
  {
   "cell_type": "code",
   "execution_count": 3,
   "metadata": {},
   "outputs": [],
   "source": [
    "def _load_json(fn, dataframe=True):\n",
    "    # path = os.path.dirname(__file__)\n",
    "    fp = os.path.join(fn)\n",
    "    with open(fp) as js:\n",
    "        if dataframe == True:\n",
    "            df = pd.read_json(js)\n",
    "            df.columns = df.columns.str.replace(\".\", \"_\")\n",
    "        else:\n",
    "            df = json.load(js)\n",
    "\n",
    "    return df"
   ]
  },
  {
   "cell_type": "code",
   "execution_count": 11,
   "metadata": {},
   "outputs": [
    {
     "data": {
      "text/html": [
       "<div>\n",
       "<style scoped>\n",
       "    .dataframe tbody tr th:only-of-type {\n",
       "        vertical-align: middle;\n",
       "    }\n",
       "\n",
       "    .dataframe tbody tr th {\n",
       "        vertical-align: top;\n",
       "    }\n",
       "\n",
       "    .dataframe thead th {\n",
       "        text-align: right;\n",
       "    }\n",
       "</style>\n",
       "<table border=\"1\" class=\"dataframe\">\n",
       "  <thead>\n",
       "    <tr style=\"text-align: right;\">\n",
       "      <th></th>\n",
       "      <th>date</th>\n",
       "      <th>value</th>\n",
       "      <th>table_name</th>\n",
       "      <th>series_id</th>\n",
       "    </tr>\n",
       "  </thead>\n",
       "  <tbody>\n",
       "    <tr>\n",
       "      <th>0</th>\n",
       "      <td>2023-09-22</td>\n",
       "      <td>21958</td>\n",
       "      <td>Cushing, OK Ending Stocks excluding SPR of Cru...</td>\n",
       "      <td>PET.W_EPC0_SAX_YCUOK_MBBL.W</td>\n",
       "    </tr>\n",
       "    <tr>\n",
       "      <th>1</th>\n",
       "      <td>2023-09-15</td>\n",
       "      <td>22901</td>\n",
       "      <td>Cushing, OK Ending Stocks excluding SPR of Cru...</td>\n",
       "      <td>PET.W_EPC0_SAX_YCUOK_MBBL.W</td>\n",
       "    </tr>\n",
       "    <tr>\n",
       "      <th>2</th>\n",
       "      <td>2023-09-08</td>\n",
       "      <td>24965</td>\n",
       "      <td>Cushing, OK Ending Stocks excluding SPR of Cru...</td>\n",
       "      <td>PET.W_EPC0_SAX_YCUOK_MBBL.W</td>\n",
       "    </tr>\n",
       "    <tr>\n",
       "      <th>3</th>\n",
       "      <td>2023-09-01</td>\n",
       "      <td>27415</td>\n",
       "      <td>Cushing, OK Ending Stocks excluding SPR of Cru...</td>\n",
       "      <td>PET.W_EPC0_SAX_YCUOK_MBBL.W</td>\n",
       "    </tr>\n",
       "    <tr>\n",
       "      <th>4</th>\n",
       "      <td>2023-08-25</td>\n",
       "      <td>29165</td>\n",
       "      <td>Cushing, OK Ending Stocks excluding SPR of Cru...</td>\n",
       "      <td>PET.W_EPC0_SAX_YCUOK_MBBL.W</td>\n",
       "    </tr>\n",
       "    <tr>\n",
       "      <th>...</th>\n",
       "      <td>...</td>\n",
       "      <td>...</td>\n",
       "      <td>...</td>\n",
       "      <td>...</td>\n",
       "    </tr>\n",
       "    <tr>\n",
       "      <th>712</th>\n",
       "      <td>2010-01-29</td>\n",
       "      <td>2406</td>\n",
       "      <td>Weekly Lower 48 States Natural Gas Working Und...</td>\n",
       "      <td>NG.NW2_EPG0_SWO_R48_BCF.W</td>\n",
       "    </tr>\n",
       "    <tr>\n",
       "      <th>713</th>\n",
       "      <td>2010-01-22</td>\n",
       "      <td>2521</td>\n",
       "      <td>Weekly Lower 48 States Natural Gas Working Und...</td>\n",
       "      <td>NG.NW2_EPG0_SWO_R48_BCF.W</td>\n",
       "    </tr>\n",
       "    <tr>\n",
       "      <th>714</th>\n",
       "      <td>2010-01-15</td>\n",
       "      <td>2607</td>\n",
       "      <td>Weekly Lower 48 States Natural Gas Working Und...</td>\n",
       "      <td>NG.NW2_EPG0_SWO_R48_BCF.W</td>\n",
       "    </tr>\n",
       "    <tr>\n",
       "      <th>715</th>\n",
       "      <td>2010-01-08</td>\n",
       "      <td>2850</td>\n",
       "      <td>Weekly Lower 48 States Natural Gas Working Und...</td>\n",
       "      <td>NG.NW2_EPG0_SWO_R48_BCF.W</td>\n",
       "    </tr>\n",
       "    <tr>\n",
       "      <th>716</th>\n",
       "      <td>2010-01-01</td>\n",
       "      <td>3117</td>\n",
       "      <td>Weekly Lower 48 States Natural Gas Working Und...</td>\n",
       "      <td>NG.NW2_EPG0_SWO_R48_BCF.W</td>\n",
       "    </tr>\n",
       "  </tbody>\n",
       "</table>\n",
       "<p>1733 rows × 4 columns</p>\n",
       "</div>"
      ],
      "text/plain": [
       "          date  value                                         table_name  \\\n",
       "0   2023-09-22  21958  Cushing, OK Ending Stocks excluding SPR of Cru...   \n",
       "1   2023-09-15  22901  Cushing, OK Ending Stocks excluding SPR of Cru...   \n",
       "2   2023-09-08  24965  Cushing, OK Ending Stocks excluding SPR of Cru...   \n",
       "3   2023-09-01  27415  Cushing, OK Ending Stocks excluding SPR of Cru...   \n",
       "4   2023-08-25  29165  Cushing, OK Ending Stocks excluding SPR of Cru...   \n",
       "..         ...    ...                                                ...   \n",
       "712 2010-01-29   2406  Weekly Lower 48 States Natural Gas Working Und...   \n",
       "713 2010-01-22   2521  Weekly Lower 48 States Natural Gas Working Und...   \n",
       "714 2010-01-15   2607  Weekly Lower 48 States Natural Gas Working Und...   \n",
       "715 2010-01-08   2850  Weekly Lower 48 States Natural Gas Working Und...   \n",
       "716 2010-01-01   3117  Weekly Lower 48 States Natural Gas Working Und...   \n",
       "\n",
       "                       series_id  \n",
       "0    PET.W_EPC0_SAX_YCUOK_MBBL.W  \n",
       "1    PET.W_EPC0_SAX_YCUOK_MBBL.W  \n",
       "2    PET.W_EPC0_SAX_YCUOK_MBBL.W  \n",
       "3    PET.W_EPC0_SAX_YCUOK_MBBL.W  \n",
       "4    PET.W_EPC0_SAX_YCUOK_MBBL.W  \n",
       "..                           ...  \n",
       "712    NG.NW2_EPG0_SWO_R48_BCF.W  \n",
       "713    NG.NW2_EPG0_SWO_R48_BCF.W  \n",
       "714    NG.NW2_EPG0_SWO_R48_BCF.W  \n",
       "715    NG.NW2_EPG0_SWO_R48_BCF.W  \n",
       "716    NG.NW2_EPG0_SWO_R48_BCF.W  \n",
       "\n",
       "[1733 rows x 4 columns]"
      ]
     },
     "execution_count": 11,
     "metadata": {},
     "output_type": "execute_result"
    }
   ],
   "source": [
    "rt.get_eia_df(\n",
    "        [\"PET.W_EPC0_SAX_YCUOK_MBBL.W\", \"NG.NW2_EPG0_SWO_R48_BCF.W\"], key=os.getenv('EIA')\n",
    "    )"
   ]
  },
  {
   "cell_type": "code",
   "execution_count": null,
   "metadata": {},
   "outputs": [],
   "source": []
  }
 ],
 "metadata": {
  "kernelspec": {
   "display_name": "env",
   "language": "python",
   "name": "python3"
  },
  "language_info": {
   "codemirror_mode": {
    "name": "ipython",
    "version": 3
   },
   "file_extension": ".py",
   "mimetype": "text/x-python",
   "name": "python",
   "nbconvert_exporter": "python",
   "pygments_lexer": "ipython3",
   "version": "3.10.12"
  },
  "orig_nbformat": 4
 },
 "nbformat": 4,
 "nbformat_minor": 2
}
