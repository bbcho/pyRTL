{
 "cells": [
  {
   "cell_type": "code",
   "execution_count": 1,
   "metadata": {},
   "outputs": [],
   "source": [
    "%load_ext autoreload\n",
    "%autoreload 2\n",
    "import pandas as pd \n",
    "import numpy as np\n",
    "import risktools as rt"
   ]
  },
  {
   "cell_type": "code",
   "execution_count": 2,
   "metadata": {},
   "outputs": [
    {
     "data": {
      "text/html": [
       "<div>\n",
       "<style scoped>\n",
       "    .dataframe tbody tr th:only-of-type {\n",
       "        vertical-align: middle;\n",
       "    }\n",
       "\n",
       "    .dataframe tbody tr th {\n",
       "        vertical-align: top;\n",
       "    }\n",
       "\n",
       "    .dataframe thead th {\n",
       "        text-align: right;\n",
       "    }\n",
       "</style>\n",
       "<table border=\"1\" class=\"dataframe\">\n",
       "  <thead>\n",
       "    <tr style=\"text-align: right;\">\n",
       "      <th></th>\n",
       "      <th>date</th>\n",
       "      <th>zeroRates</th>\n",
       "    </tr>\n",
       "  </thead>\n",
       "  <tbody>\n",
       "    <tr>\n",
       "      <th>0</th>\n",
       "      <td>2023-01-04</td>\n",
       "      <td>0.0445</td>\n",
       "    </tr>\n",
       "    <tr>\n",
       "      <th>1</th>\n",
       "      <td>2023-02-02</td>\n",
       "      <td>0.0443</td>\n",
       "    </tr>\n",
       "    <tr>\n",
       "      <th>2</th>\n",
       "      <td>2023-03-03</td>\n",
       "      <td>0.0453</td>\n",
       "    </tr>\n",
       "    <tr>\n",
       "      <th>3</th>\n",
       "      <td>2023-04-03</td>\n",
       "      <td>0.0460</td>\n",
       "    </tr>\n",
       "    <tr>\n",
       "      <th>4</th>\n",
       "      <td>2023-05-05</td>\n",
       "      <td>0.0466</td>\n",
       "    </tr>\n",
       "    <tr>\n",
       "      <th>...</th>\n",
       "      <td>...</td>\n",
       "      <td>...</td>\n",
       "    </tr>\n",
       "    <tr>\n",
       "      <th>361</th>\n",
       "      <td>2052-08-15</td>\n",
       "      <td>0.0329</td>\n",
       "    </tr>\n",
       "    <tr>\n",
       "      <th>362</th>\n",
       "      <td>2052-09-13</td>\n",
       "      <td>0.0329</td>\n",
       "    </tr>\n",
       "    <tr>\n",
       "      <th>363</th>\n",
       "      <td>2052-10-14</td>\n",
       "      <td>0.0329</td>\n",
       "    </tr>\n",
       "    <tr>\n",
       "      <th>364</th>\n",
       "      <td>2052-11-12</td>\n",
       "      <td>0.0329</td>\n",
       "    </tr>\n",
       "    <tr>\n",
       "      <th>365</th>\n",
       "      <td>2052-12-11</td>\n",
       "      <td>0.0329</td>\n",
       "    </tr>\n",
       "  </tbody>\n",
       "</table>\n",
       "<p>366 rows × 2 columns</p>\n",
       "</div>"
      ],
      "text/plain": [
       "          date  zeroRates\n",
       "0   2023-01-04     0.0445\n",
       "1   2023-02-02     0.0443\n",
       "2   2023-03-03     0.0453\n",
       "3   2023-04-03     0.0460\n",
       "4   2023-05-05     0.0466\n",
       "..         ...        ...\n",
       "361 2052-08-15     0.0329\n",
       "362 2052-09-13     0.0329\n",
       "363 2052-10-14     0.0329\n",
       "364 2052-11-12     0.0329\n",
       "365 2052-12-11     0.0329\n",
       "\n",
       "[366 rows x 2 columns]"
      ]
     },
     "execution_count": 2,
     "metadata": {},
     "output_type": "execute_result"
    }
   ],
   "source": [
    "rt.data.open_data('usSwapCurves')['table']"
   ]
  },
  {
   "cell_type": "code",
   "execution_count": 48,
   "metadata": {},
   "outputs": [
    {
     "name": "stderr",
     "output_type": "stream",
     "text": [
      "/home/bcho/PROJECTS/risktools-dev/src/risktools/data/__init__.py:114: UserWarning: File actions for futuresRef not defined. Running default behavior.\n",
      "  _warnings.warn(f\"File actions for {nm} not defined. Running default behavior.\")\n"
     ]
    },
    {
     "ename": "UnboundLocalError",
     "evalue": "local variable 'df' referenced before assignment",
     "output_type": "error",
     "traceback": [
      "\u001b[0;31m---------------------------------------------------------------------------\u001b[0m",
      "\u001b[0;31mUnboundLocalError\u001b[0m                         Traceback (most recent call last)",
      "File \u001b[0;32m~/PROJECTS/risktools-dev/src/risktools/data/__init__.py:112\u001b[0m, in \u001b[0;36mopen_data\u001b[0;34m(nm)\u001b[0m\n\u001b[1;32m    111\u001b[0m \u001b[39mtry\u001b[39;00m:\n\u001b[0;32m--> 112\u001b[0m     df \u001b[39m=\u001b[39m _file_actions[nm][\u001b[39m\"\u001b[39;49m\u001b[39mload_func\u001b[39;49m\u001b[39m\"\u001b[39;49m](fp)\n\u001b[1;32m    113\u001b[0m \u001b[39mexcept\u001b[39;00m:\n",
      "File \u001b[0;32m~/PROJECTS/risktools-dev/src/risktools/data/__init__.py:188\u001b[0m, in \u001b[0;36m_load_data\u001b[0;34m(fn)\u001b[0m\n\u001b[1;32m    187\u001b[0m     \u001b[39mif\u001b[39;00m \u001b[39misinstance\u001b[39m(dd[key], _pd\u001b[39m.\u001b[39mDataFrame) \u001b[39m==\u001b[39m \u001b[39mTrue\u001b[39;00m:\n\u001b[0;32m--> 188\u001b[0m         df \u001b[39m=\u001b[39m _try_dates(df)\n\u001b[1;32m    190\u001b[0m \u001b[39mreturn\u001b[39;00m dd\n",
      "\u001b[0;31mUnboundLocalError\u001b[0m: local variable 'df' referenced before assignment",
      "\nDuring handling of the above exception, another exception occurred:\n",
      "\u001b[0;31mUnboundLocalError\u001b[0m                         Traceback (most recent call last)",
      "Cell \u001b[0;32mIn[48], line 1\u001b[0m\n\u001b[0;32m----> 1\u001b[0m rt\u001b[39m.\u001b[39;49mdata\u001b[39m.\u001b[39;49mopen_data(\u001b[39m'\u001b[39;49m\u001b[39mfuturesRef\u001b[39;49m\u001b[39m'\u001b[39;49m)\n",
      "File \u001b[0;32m~/PROJECTS/risktools-dev/src/risktools/data/__init__.py:115\u001b[0m, in \u001b[0;36mopen_data\u001b[0;34m(nm)\u001b[0m\n\u001b[1;32m    113\u001b[0m \u001b[39mexcept\u001b[39;00m:\n\u001b[1;32m    114\u001b[0m     _warnings\u001b[39m.\u001b[39mwarn(\u001b[39mf\u001b[39m\u001b[39m\"\u001b[39m\u001b[39mFile actions for \u001b[39m\u001b[39m{\u001b[39;00mnm\u001b[39m}\u001b[39;00m\u001b[39m not defined. Running default behavior.\u001b[39m\u001b[39m\"\u001b[39m)\n\u001b[0;32m--> 115\u001b[0m     df \u001b[39m=\u001b[39m _load_data(_os\u001b[39m.\u001b[39;49mpath\u001b[39m.\u001b[39;49mjoin(_path, \u001b[39mf\u001b[39;49m\u001b[39m\"\u001b[39;49m\u001b[39m{\u001b[39;49;00mnm\u001b[39m}\u001b[39;49;00m\u001b[39m.json\u001b[39;49m\u001b[39m\"\u001b[39;49m))\n\u001b[1;32m    117\u001b[0m \u001b[39mif\u001b[39;00m \u001b[39misinstance\u001b[39m(df, _pd\u001b[39m.\u001b[39mDataFrame):\n\u001b[1;32m    118\u001b[0m     \u001b[39m# convert \".\" to \"_\" in column names\u001b[39;00m\n\u001b[1;32m    119\u001b[0m     df\u001b[39m.\u001b[39mcolumns \u001b[39m=\u001b[39m df\u001b[39m.\u001b[39mcolumns\u001b[39m.\u001b[39mstr\u001b[39m.\u001b[39mreplace(\u001b[39m\"\u001b[39m\u001b[39m.\u001b[39m\u001b[39m\"\u001b[39m, \u001b[39m\"\u001b[39m\u001b[39m_\u001b[39m\u001b[39m\"\u001b[39m, regex\u001b[39m=\u001b[39m\u001b[39mFalse\u001b[39;00m)\n",
      "File \u001b[0;32m~/PROJECTS/risktools-dev/src/risktools/data/__init__.py:188\u001b[0m, in \u001b[0;36m_load_data\u001b[0;34m(fn)\u001b[0m\n\u001b[1;32m    185\u001b[0m         \u001b[39mpass\u001b[39;00m\n\u001b[1;32m    187\u001b[0m     \u001b[39mif\u001b[39;00m \u001b[39misinstance\u001b[39m(dd[key], _pd\u001b[39m.\u001b[39mDataFrame) \u001b[39m==\u001b[39m \u001b[39mTrue\u001b[39;00m:\n\u001b[0;32m--> 188\u001b[0m         df \u001b[39m=\u001b[39m _try_dates(df)\n\u001b[1;32m    190\u001b[0m \u001b[39mreturn\u001b[39;00m dd\n",
      "\u001b[0;31mUnboundLocalError\u001b[0m: local variable 'df' referenced before assignment"
     ]
    }
   ],
   "source": [
    "rt.data.open_data('futuresRef')"
   ]
  },
  {
   "cell_type": "code",
   "execution_count": null,
   "metadata": {},
   "outputs": [],
   "source": []
  }
 ],
 "metadata": {
  "kernelspec": {
   "display_name": "env",
   "language": "python",
   "name": "python3"
  },
  "language_info": {
   "codemirror_mode": {
    "name": "ipython",
    "version": 3
   },
   "file_extension": ".py",
   "mimetype": "text/x-python",
   "name": "python",
   "nbconvert_exporter": "python",
   "pygments_lexer": "ipython3",
   "version": "3.10.12"
  },
  "orig_nbformat": 4,
  "vscode": {
   "interpreter": {
    "hash": "84fcf7a5011512645152dc1bd8c03e47040a5959e4046ddce3e49c73a0dfefca"
   }
  }
 },
 "nbformat": 4,
 "nbformat_minor": 2
}
